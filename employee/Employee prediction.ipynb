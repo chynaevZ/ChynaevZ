{
 "cells": [
  {
   "cell_type": "code",
   "execution_count": 1,
   "id": "353d635e",
   "metadata": {},
   "outputs": [],
   "source": [
    "import pandas as pd"
   ]
  },
  {
   "cell_type": "code",
   "execution_count": 2,
   "id": "916c5a21",
   "metadata": {},
   "outputs": [
    {
     "data": {
      "text/html": [
       "<div>\n",
       "<style scoped>\n",
       "    .dataframe tbody tr th:only-of-type {\n",
       "        vertical-align: middle;\n",
       "    }\n",
       "\n",
       "    .dataframe tbody tr th {\n",
       "        vertical-align: top;\n",
       "    }\n",
       "\n",
       "    .dataframe thead th {\n",
       "        text-align: right;\n",
       "    }\n",
       "</style>\n",
       "<table border=\"1\" class=\"dataframe\">\n",
       "  <thead>\n",
       "    <tr style=\"text-align: right;\">\n",
       "      <th></th>\n",
       "      <th>Education</th>\n",
       "      <th>JoiningYear</th>\n",
       "      <th>City</th>\n",
       "      <th>PaymentTier</th>\n",
       "      <th>Age</th>\n",
       "      <th>Gender</th>\n",
       "      <th>EverBenched</th>\n",
       "      <th>ExperienceInCurrentDomain</th>\n",
       "      <th>Leave</th>\n",
       "    </tr>\n",
       "  </thead>\n",
       "  <tbody>\n",
       "    <tr>\n",
       "      <th>0</th>\n",
       "      <td>Bachelors</td>\n",
       "      <td>2021</td>\n",
       "      <td>Bishkek</td>\n",
       "      <td>3</td>\n",
       "      <td>36</td>\n",
       "      <td>Male</td>\n",
       "      <td>No</td>\n",
       "      <td>0</td>\n",
       "      <td>0</td>\n",
       "    </tr>\n",
       "    <tr>\n",
       "      <th>1</th>\n",
       "      <td>Bachelors</td>\n",
       "      <td>2017</td>\n",
       "      <td>Osh</td>\n",
       "      <td>3</td>\n",
       "      <td>38</td>\n",
       "      <td>Male</td>\n",
       "      <td>Yes</td>\n",
       "      <td>5</td>\n",
       "      <td>0</td>\n",
       "    </tr>\n",
       "    <tr>\n",
       "      <th>2</th>\n",
       "      <td>Bachelors</td>\n",
       "      <td>2021</td>\n",
       "      <td>Osh</td>\n",
       "      <td>3</td>\n",
       "      <td>29</td>\n",
       "      <td>Female</td>\n",
       "      <td>No</td>\n",
       "      <td>1</td>\n",
       "      <td>1</td>\n",
       "    </tr>\n",
       "    <tr>\n",
       "      <th>3</th>\n",
       "      <td>Bachelors</td>\n",
       "      <td>2021</td>\n",
       "      <td>Osh</td>\n",
       "      <td>3</td>\n",
       "      <td>34</td>\n",
       "      <td>Male</td>\n",
       "      <td>No</td>\n",
       "      <td>5</td>\n",
       "      <td>0</td>\n",
       "    </tr>\n",
       "    <tr>\n",
       "      <th>4</th>\n",
       "      <td>Bachelors</td>\n",
       "      <td>2016</td>\n",
       "      <td>Bishkek</td>\n",
       "      <td>3</td>\n",
       "      <td>24</td>\n",
       "      <td>Male</td>\n",
       "      <td>No</td>\n",
       "      <td>2</td>\n",
       "      <td>0</td>\n",
       "    </tr>\n",
       "    <tr>\n",
       "      <th>...</th>\n",
       "      <td>...</td>\n",
       "      <td>...</td>\n",
       "      <td>...</td>\n",
       "      <td>...</td>\n",
       "      <td>...</td>\n",
       "      <td>...</td>\n",
       "      <td>...</td>\n",
       "      <td>...</td>\n",
       "      <td>...</td>\n",
       "    </tr>\n",
       "    <tr>\n",
       "      <th>3745</th>\n",
       "      <td>Bachelors</td>\n",
       "      <td>2020</td>\n",
       "      <td>Osh</td>\n",
       "      <td>3</td>\n",
       "      <td>33</td>\n",
       "      <td>Male</td>\n",
       "      <td>No</td>\n",
       "      <td>4</td>\n",
       "      <td>0</td>\n",
       "    </tr>\n",
       "    <tr>\n",
       "      <th>3746</th>\n",
       "      <td>Bachelors</td>\n",
       "      <td>2018</td>\n",
       "      <td>Osh</td>\n",
       "      <td>2</td>\n",
       "      <td>36</td>\n",
       "      <td>Female</td>\n",
       "      <td>No</td>\n",
       "      <td>5</td>\n",
       "      <td>1</td>\n",
       "    </tr>\n",
       "    <tr>\n",
       "      <th>3747</th>\n",
       "      <td>Bachelors</td>\n",
       "      <td>2018</td>\n",
       "      <td>Osh</td>\n",
       "      <td>3</td>\n",
       "      <td>28</td>\n",
       "      <td>Female</td>\n",
       "      <td>No</td>\n",
       "      <td>5</td>\n",
       "      <td>1</td>\n",
       "    </tr>\n",
       "    <tr>\n",
       "      <th>3748</th>\n",
       "      <td>Bachelors</td>\n",
       "      <td>2017</td>\n",
       "      <td>Osh</td>\n",
       "      <td>2</td>\n",
       "      <td>38</td>\n",
       "      <td>Female</td>\n",
       "      <td>No</td>\n",
       "      <td>0</td>\n",
       "      <td>0</td>\n",
       "    </tr>\n",
       "    <tr>\n",
       "      <th>3749</th>\n",
       "      <td>Masters</td>\n",
       "      <td>2017</td>\n",
       "      <td>other</td>\n",
       "      <td>3</td>\n",
       "      <td>26</td>\n",
       "      <td>Female</td>\n",
       "      <td>No</td>\n",
       "      <td>4</td>\n",
       "      <td>0</td>\n",
       "    </tr>\n",
       "  </tbody>\n",
       "</table>\n",
       "<p>3750 rows × 9 columns</p>\n",
       "</div>"
      ],
      "text/plain": [
       "      Education JoiningYear     City  PaymentTier  Age  Gender EverBenched  \\\n",
       "0     Bachelors        2021  Bishkek            3   36    Male          No   \n",
       "1     Bachelors        2017      Osh            3   38    Male         Yes   \n",
       "2     Bachelors        2021      Osh            3   29  Female          No   \n",
       "3     Bachelors        2021      Osh            3   34    Male          No   \n",
       "4     Bachelors        2016  Bishkek            3   24    Male          No   \n",
       "...         ...         ...      ...          ...  ...     ...         ...   \n",
       "3745  Bachelors        2020      Osh            3   33    Male          No   \n",
       "3746  Bachelors        2018      Osh            2   36  Female          No   \n",
       "3747  Bachelors        2018      Osh            3   28  Female          No   \n",
       "3748  Bachelors        2017      Osh            2   38  Female          No   \n",
       "3749    Masters        2017    other            3   26  Female          No   \n",
       "\n",
       "      ExperienceInCurrentDomain  Leave  \n",
       "0                             0      0  \n",
       "1                             5      0  \n",
       "2                             1      1  \n",
       "3                             5      0  \n",
       "4                             2      0  \n",
       "...                         ...    ...  \n",
       "3745                          4      0  \n",
       "3746                          5      1  \n",
       "3747                          5      1  \n",
       "3748                          0      0  \n",
       "3749                          4      0  \n",
       "\n",
       "[3750 rows x 9 columns]"
      ]
     },
     "execution_count": 2,
     "metadata": {},
     "output_type": "execute_result"
    }
   ],
   "source": [
    "df=pd.read_csv(\"empl_train.csv\")\n",
    "df"
   ]
  },
  {
   "cell_type": "code",
   "execution_count": 3,
   "id": "b18aa26c",
   "metadata": {},
   "outputs": [
    {
     "name": "stdout",
     "output_type": "stream",
     "text": [
      "<class 'pandas.core.frame.DataFrame'>\n",
      "RangeIndex: 3750 entries, 0 to 3749\n",
      "Data columns (total 9 columns):\n",
      " #   Column                     Non-Null Count  Dtype \n",
      "---  ------                     --------------  ----- \n",
      " 0   Education                  3750 non-null   object\n",
      " 1   JoiningYear                3725 non-null   object\n",
      " 2   City                       3732 non-null   object\n",
      " 3   PaymentTier                3750 non-null   int64 \n",
      " 4   Age                        3750 non-null   int64 \n",
      " 5   Gender                     3750 non-null   object\n",
      " 6   EverBenched                3750 non-null   object\n",
      " 7   ExperienceInCurrentDomain  3750 non-null   int64 \n",
      " 8   Leave                      3750 non-null   int64 \n",
      "dtypes: int64(4), object(5)\n",
      "memory usage: 263.8+ KB\n"
     ]
    }
   ],
   "source": [
    "df.info()"
   ]
  },
  {
   "cell_type": "code",
   "execution_count": 4,
   "id": "18a5d5b7",
   "metadata": {},
   "outputs": [
    {
     "data": {
      "text/plain": [
       "Education                     0\n",
       "JoiningYear                  25\n",
       "City                         18\n",
       "PaymentTier                   0\n",
       "Age                           0\n",
       "Gender                        0\n",
       "EverBenched                   0\n",
       "ExperienceInCurrentDomain     0\n",
       "Leave                         0\n",
       "dtype: int64"
      ]
     },
     "execution_count": 4,
     "metadata": {},
     "output_type": "execute_result"
    }
   ],
   "source": [
    "df.isnull().sum()"
   ]
  },
  {
   "cell_type": "code",
   "execution_count": null,
   "id": "99e6bacc",
   "metadata": {},
   "outputs": [],
   "source": [
    "df['JoiningYear']=pd.to_numeric(df['JoiningYear'],errors='coerce')\n",
    "df['JoiningYear'].fillna(value=df['JoiningYear'].mean(), inplace=True)"
   ]
  },
  {
   "cell_type": "code",
   "execution_count": 5,
   "id": "4755d035",
   "metadata": {},
   "outputs": [
    {
     "data": {
      "text/plain": [
       "No     3357\n",
       "Yes     393\n",
       "Name: EverBenched, dtype: int64"
      ]
     },
     "execution_count": 5,
     "metadata": {},
     "output_type": "execute_result"
    }
   ],
   "source": [
    "df['EverBenched'].value_counts()"
   ]
  },
  {
   "cell_type": "code",
   "execution_count": 5,
   "id": "119998c8",
   "metadata": {},
   "outputs": [],
   "source": [
    "df['Education']=df['Education'].replace('Bachlor','Bachelors')"
   ]
  },
  {
   "cell_type": "code",
   "execution_count": 6,
   "id": "02081ed7",
   "metadata": {},
   "outputs": [],
   "source": [
    "df['Education']=df['Education'].replace('Master','Masters')"
   ]
  },
  {
   "cell_type": "code",
   "execution_count": 7,
   "id": "80d849b8",
   "metadata": {},
   "outputs": [],
   "source": [
    "df['Education']=df['Education'].replace('Кандидат','PHD')"
   ]
  },
  {
   "cell_type": "code",
   "execution_count": 8,
   "id": "4f1389e4",
   "metadata": {},
   "outputs": [
    {
     "data": {
      "text/plain": [
       "Male       2243\n",
       "Female     1469\n",
       "Мужской      25\n",
       "Женский      13\n",
       "Name: Gender, dtype: int64"
      ]
     },
     "execution_count": 8,
     "metadata": {},
     "output_type": "execute_result"
    }
   ],
   "source": [
    "df['Gender'].value_counts()"
   ]
  },
  {
   "cell_type": "code",
   "execution_count": 9,
   "id": "9db5b4de",
   "metadata": {},
   "outputs": [],
   "source": [
    "df['Gender']=df['Gender'].replace('Мужской','Male')\n",
    "df['Gender']=df['Gender'].replace('Женский','Female')\n"
   ]
  },
  {
   "cell_type": "code",
   "execution_count": null,
   "id": "92ee05db",
   "metadata": {},
   "outputs": [],
   "source": []
  },
  {
   "cell_type": "code",
   "execution_count": null,
   "id": "ee30c5c5",
   "metadata": {},
   "outputs": [],
   "source": []
  },
  {
   "cell_type": "code",
   "execution_count": null,
   "id": "d5c8dd4d",
   "metadata": {},
   "outputs": [],
   "source": []
  },
  {
   "cell_type": "code",
   "execution_count": 10,
   "id": "abd26c30",
   "metadata": {},
   "outputs": [],
   "source": [
    "df['City'].fillna(value='Bishkek', inplace=True)"
   ]
  },
  {
   "cell_type": "code",
   "execution_count": null,
   "id": "fca7a12c",
   "metadata": {},
   "outputs": [],
   "source": []
  },
  {
   "cell_type": "code",
   "execution_count": 11,
   "id": "0dce07e0",
   "metadata": {},
   "outputs": [
    {
     "data": {
      "text/plain": [
       "Bishkek    1780\n",
       "Osh        1010\n",
       "other       909\n",
       "Биш          27\n",
       "Ош           14\n",
       "Др           10\n",
       "Name: City, dtype: int64"
      ]
     },
     "execution_count": 11,
     "metadata": {},
     "output_type": "execute_result"
    }
   ],
   "source": [
    "df['City'].value_counts()"
   ]
  },
  {
   "cell_type": "code",
   "execution_count": 12,
   "id": "76d90e2d",
   "metadata": {},
   "outputs": [],
   "source": [
    "df['City']=df['City'].replace('Биш','Bishkek')\n",
    "df['City']=df['City'].replace('Ош','Osh')\n",
    "df['City']=df['City'].replace('Др','other')"
   ]
  },
  {
   "cell_type": "code",
   "execution_count": 13,
   "id": "3c4eac5b",
   "metadata": {},
   "outputs": [],
   "source": [
    "df['Gender'].replace({\"Male\":1, \"Female\":0}, inplace=True)"
   ]
  },
  {
   "cell_type": "code",
   "execution_count": 14,
   "id": "127d2644",
   "metadata": {},
   "outputs": [],
   "source": [
    "df['EverBenched'].replace({\"Yes\":1, \"No\":0}, inplace=True)"
   ]
  },
  {
   "cell_type": "code",
   "execution_count": 15,
   "id": "c47ab762",
   "metadata": {},
   "outputs": [],
   "source": [
    "df=pd.get_dummies(df, 'Education', 'City')"
   ]
  },
  {
   "cell_type": "code",
   "execution_count": 16,
   "id": "d435a649",
   "metadata": {},
   "outputs": [
    {
     "data": {
      "text/html": [
       "<div>\n",
       "<style scoped>\n",
       "    .dataframe tbody tr th:only-of-type {\n",
       "        vertical-align: middle;\n",
       "    }\n",
       "\n",
       "    .dataframe tbody tr th {\n",
       "        vertical-align: top;\n",
       "    }\n",
       "\n",
       "    .dataframe thead th {\n",
       "        text-align: right;\n",
       "    }\n",
       "</style>\n",
       "<table border=\"1\" class=\"dataframe\">\n",
       "  <thead>\n",
       "    <tr style=\"text-align: right;\">\n",
       "      <th></th>\n",
       "      <th>JoiningYear</th>\n",
       "      <th>PaymentTier</th>\n",
       "      <th>Age</th>\n",
       "      <th>Gender</th>\n",
       "      <th>EverBenched</th>\n",
       "      <th>ExperienceInCurrentDomain</th>\n",
       "      <th>Leave</th>\n",
       "      <th>EducationCityBachelors</th>\n",
       "      <th>EducationCityMasters</th>\n",
       "      <th>EducationCityPHD</th>\n",
       "      <th>EducationCityБакалавр</th>\n",
       "      <th>EducationCityМагистратура</th>\n",
       "      <th>EducationCityBishkek</th>\n",
       "      <th>EducationCityOsh</th>\n",
       "      <th>EducationCityother</th>\n",
       "    </tr>\n",
       "  </thead>\n",
       "  <tbody>\n",
       "    <tr>\n",
       "      <th>0</th>\n",
       "      <td>2021.0</td>\n",
       "      <td>3</td>\n",
       "      <td>36</td>\n",
       "      <td>1</td>\n",
       "      <td>0</td>\n",
       "      <td>0</td>\n",
       "      <td>0</td>\n",
       "      <td>1</td>\n",
       "      <td>0</td>\n",
       "      <td>0</td>\n",
       "      <td>0</td>\n",
       "      <td>0</td>\n",
       "      <td>1</td>\n",
       "      <td>0</td>\n",
       "      <td>0</td>\n",
       "    </tr>\n",
       "    <tr>\n",
       "      <th>1</th>\n",
       "      <td>2017.0</td>\n",
       "      <td>3</td>\n",
       "      <td>38</td>\n",
       "      <td>1</td>\n",
       "      <td>1</td>\n",
       "      <td>5</td>\n",
       "      <td>0</td>\n",
       "      <td>1</td>\n",
       "      <td>0</td>\n",
       "      <td>0</td>\n",
       "      <td>0</td>\n",
       "      <td>0</td>\n",
       "      <td>0</td>\n",
       "      <td>1</td>\n",
       "      <td>0</td>\n",
       "    </tr>\n",
       "    <tr>\n",
       "      <th>2</th>\n",
       "      <td>2021.0</td>\n",
       "      <td>3</td>\n",
       "      <td>29</td>\n",
       "      <td>0</td>\n",
       "      <td>0</td>\n",
       "      <td>1</td>\n",
       "      <td>1</td>\n",
       "      <td>1</td>\n",
       "      <td>0</td>\n",
       "      <td>0</td>\n",
       "      <td>0</td>\n",
       "      <td>0</td>\n",
       "      <td>0</td>\n",
       "      <td>1</td>\n",
       "      <td>0</td>\n",
       "    </tr>\n",
       "    <tr>\n",
       "      <th>3</th>\n",
       "      <td>2021.0</td>\n",
       "      <td>3</td>\n",
       "      <td>34</td>\n",
       "      <td>1</td>\n",
       "      <td>0</td>\n",
       "      <td>5</td>\n",
       "      <td>0</td>\n",
       "      <td>1</td>\n",
       "      <td>0</td>\n",
       "      <td>0</td>\n",
       "      <td>0</td>\n",
       "      <td>0</td>\n",
       "      <td>0</td>\n",
       "      <td>1</td>\n",
       "      <td>0</td>\n",
       "    </tr>\n",
       "    <tr>\n",
       "      <th>4</th>\n",
       "      <td>2016.0</td>\n",
       "      <td>3</td>\n",
       "      <td>24</td>\n",
       "      <td>1</td>\n",
       "      <td>0</td>\n",
       "      <td>2</td>\n",
       "      <td>0</td>\n",
       "      <td>1</td>\n",
       "      <td>0</td>\n",
       "      <td>0</td>\n",
       "      <td>0</td>\n",
       "      <td>0</td>\n",
       "      <td>1</td>\n",
       "      <td>0</td>\n",
       "      <td>0</td>\n",
       "    </tr>\n",
       "    <tr>\n",
       "      <th>...</th>\n",
       "      <td>...</td>\n",
       "      <td>...</td>\n",
       "      <td>...</td>\n",
       "      <td>...</td>\n",
       "      <td>...</td>\n",
       "      <td>...</td>\n",
       "      <td>...</td>\n",
       "      <td>...</td>\n",
       "      <td>...</td>\n",
       "      <td>...</td>\n",
       "      <td>...</td>\n",
       "      <td>...</td>\n",
       "      <td>...</td>\n",
       "      <td>...</td>\n",
       "      <td>...</td>\n",
       "    </tr>\n",
       "    <tr>\n",
       "      <th>3745</th>\n",
       "      <td>2020.0</td>\n",
       "      <td>3</td>\n",
       "      <td>33</td>\n",
       "      <td>1</td>\n",
       "      <td>0</td>\n",
       "      <td>4</td>\n",
       "      <td>0</td>\n",
       "      <td>1</td>\n",
       "      <td>0</td>\n",
       "      <td>0</td>\n",
       "      <td>0</td>\n",
       "      <td>0</td>\n",
       "      <td>0</td>\n",
       "      <td>1</td>\n",
       "      <td>0</td>\n",
       "    </tr>\n",
       "    <tr>\n",
       "      <th>3746</th>\n",
       "      <td>2018.0</td>\n",
       "      <td>2</td>\n",
       "      <td>36</td>\n",
       "      <td>0</td>\n",
       "      <td>0</td>\n",
       "      <td>5</td>\n",
       "      <td>1</td>\n",
       "      <td>1</td>\n",
       "      <td>0</td>\n",
       "      <td>0</td>\n",
       "      <td>0</td>\n",
       "      <td>0</td>\n",
       "      <td>0</td>\n",
       "      <td>1</td>\n",
       "      <td>0</td>\n",
       "    </tr>\n",
       "    <tr>\n",
       "      <th>3747</th>\n",
       "      <td>2018.0</td>\n",
       "      <td>3</td>\n",
       "      <td>28</td>\n",
       "      <td>0</td>\n",
       "      <td>0</td>\n",
       "      <td>5</td>\n",
       "      <td>1</td>\n",
       "      <td>1</td>\n",
       "      <td>0</td>\n",
       "      <td>0</td>\n",
       "      <td>0</td>\n",
       "      <td>0</td>\n",
       "      <td>0</td>\n",
       "      <td>1</td>\n",
       "      <td>0</td>\n",
       "    </tr>\n",
       "    <tr>\n",
       "      <th>3748</th>\n",
       "      <td>2017.0</td>\n",
       "      <td>2</td>\n",
       "      <td>38</td>\n",
       "      <td>0</td>\n",
       "      <td>0</td>\n",
       "      <td>0</td>\n",
       "      <td>0</td>\n",
       "      <td>1</td>\n",
       "      <td>0</td>\n",
       "      <td>0</td>\n",
       "      <td>0</td>\n",
       "      <td>0</td>\n",
       "      <td>0</td>\n",
       "      <td>1</td>\n",
       "      <td>0</td>\n",
       "    </tr>\n",
       "    <tr>\n",
       "      <th>3749</th>\n",
       "      <td>2017.0</td>\n",
       "      <td>3</td>\n",
       "      <td>26</td>\n",
       "      <td>0</td>\n",
       "      <td>0</td>\n",
       "      <td>4</td>\n",
       "      <td>0</td>\n",
       "      <td>0</td>\n",
       "      <td>1</td>\n",
       "      <td>0</td>\n",
       "      <td>0</td>\n",
       "      <td>0</td>\n",
       "      <td>0</td>\n",
       "      <td>0</td>\n",
       "      <td>1</td>\n",
       "    </tr>\n",
       "  </tbody>\n",
       "</table>\n",
       "<p>3750 rows × 15 columns</p>\n",
       "</div>"
      ],
      "text/plain": [
       "      JoiningYear  PaymentTier  Age  Gender  EverBenched  \\\n",
       "0          2021.0            3   36       1            0   \n",
       "1          2017.0            3   38       1            1   \n",
       "2          2021.0            3   29       0            0   \n",
       "3          2021.0            3   34       1            0   \n",
       "4          2016.0            3   24       1            0   \n",
       "...           ...          ...  ...     ...          ...   \n",
       "3745       2020.0            3   33       1            0   \n",
       "3746       2018.0            2   36       0            0   \n",
       "3747       2018.0            3   28       0            0   \n",
       "3748       2017.0            2   38       0            0   \n",
       "3749       2017.0            3   26       0            0   \n",
       "\n",
       "      ExperienceInCurrentDomain  Leave  EducationCityBachelors  \\\n",
       "0                             0      0                       1   \n",
       "1                             5      0                       1   \n",
       "2                             1      1                       1   \n",
       "3                             5      0                       1   \n",
       "4                             2      0                       1   \n",
       "...                         ...    ...                     ...   \n",
       "3745                          4      0                       1   \n",
       "3746                          5      1                       1   \n",
       "3747                          5      1                       1   \n",
       "3748                          0      0                       1   \n",
       "3749                          4      0                       0   \n",
       "\n",
       "      EducationCityMasters  EducationCityPHD  EducationCityБакалавр  \\\n",
       "0                        0                 0                      0   \n",
       "1                        0                 0                      0   \n",
       "2                        0                 0                      0   \n",
       "3                        0                 0                      0   \n",
       "4                        0                 0                      0   \n",
       "...                    ...               ...                    ...   \n",
       "3745                     0                 0                      0   \n",
       "3746                     0                 0                      0   \n",
       "3747                     0                 0                      0   \n",
       "3748                     0                 0                      0   \n",
       "3749                     1                 0                      0   \n",
       "\n",
       "      EducationCityМагистратура  EducationCityBishkek  EducationCityOsh  \\\n",
       "0                             0                     1                 0   \n",
       "1                             0                     0                 1   \n",
       "2                             0                     0                 1   \n",
       "3                             0                     0                 1   \n",
       "4                             0                     1                 0   \n",
       "...                         ...                   ...               ...   \n",
       "3745                          0                     0                 1   \n",
       "3746                          0                     0                 1   \n",
       "3747                          0                     0                 1   \n",
       "3748                          0                     0                 1   \n",
       "3749                          0                     0                 0   \n",
       "\n",
       "      EducationCityother  \n",
       "0                      0  \n",
       "1                      0  \n",
       "2                      0  \n",
       "3                      0  \n",
       "4                      0  \n",
       "...                  ...  \n",
       "3745                   0  \n",
       "3746                   0  \n",
       "3747                   0  \n",
       "3748                   0  \n",
       "3749                   1  \n",
       "\n",
       "[3750 rows x 15 columns]"
      ]
     },
     "execution_count": 16,
     "metadata": {},
     "output_type": "execute_result"
    }
   ],
   "source": [
    "df"
   ]
  },
  {
   "cell_type": "code",
   "execution_count": 3,
   "id": "2f88f072",
   "metadata": {},
   "outputs": [],
   "source": []
  },
  {
   "cell_type": "code",
   "execution_count": 4,
   "id": "67202dae",
   "metadata": {},
   "outputs": [],
   "source": []
  },
  {
   "cell_type": "code",
   "execution_count": null,
   "id": "b258350b",
   "metadata": {},
   "outputs": [],
   "source": []
  },
  {
   "cell_type": "code",
   "execution_count": 17,
   "id": "745dcd47",
   "metadata": {},
   "outputs": [],
   "source": [
    "X=df.copy()\n",
    "y=X.pop('Leave')"
   ]
  },
  {
   "cell_type": "code",
   "execution_count": 18,
   "id": "b675ccac",
   "metadata": {},
   "outputs": [],
   "source": [
    "from sklearn.model_selection import train_test_split as tts \n",
    "X_train, X_test, y_train, y_test=tts(X, y, test_size=0.2)"
   ]
  },
  {
   "cell_type": "code",
   "execution_count": 19,
   "id": "3b9179f9",
   "metadata": {},
   "outputs": [],
   "source": [
    "from sklearn.tree import DecisionTreeClassifier\n",
    "tree=DecisionTreeClassifier()"
   ]
  },
  {
   "cell_type": "code",
   "execution_count": 20,
   "id": "046c67b8",
   "metadata": {},
   "outputs": [
    {
     "data": {
      "text/plain": [
       "DecisionTreeClassifier()"
      ]
     },
     "execution_count": 20,
     "metadata": {},
     "output_type": "execute_result"
    }
   ],
   "source": [
    "tree.fit(X_train, y_train)"
   ]
  },
  {
   "cell_type": "code",
   "execution_count": 21,
   "id": "2b67e2e6",
   "metadata": {},
   "outputs": [
    {
     "data": {
      "text/plain": [
       "0.939"
      ]
     },
     "execution_count": 21,
     "metadata": {},
     "output_type": "execute_result"
    }
   ],
   "source": [
    "tree.score(X_train, y_train)"
   ]
  },
  {
   "cell_type": "code",
   "execution_count": 22,
   "id": "d221cd4b",
   "metadata": {},
   "outputs": [
    {
     "data": {
      "text/plain": [
       "0.8106666666666666"
      ]
     },
     "execution_count": 22,
     "metadata": {},
     "output_type": "execute_result"
    }
   ],
   "source": [
    "tree.score(X_test, y_test)"
   ]
  },
  {
   "cell_type": "code",
   "execution_count": 23,
   "id": "11c9606b",
   "metadata": {},
   "outputs": [],
   "source": [
    "from sklearn.ensemble import RandomForestClassifier\n",
    "rfc=RandomForestClassifier()"
   ]
  },
  {
   "cell_type": "code",
   "execution_count": 24,
   "id": "c578f493",
   "metadata": {},
   "outputs": [
    {
     "data": {
      "text/plain": [
       "RandomForestClassifier()"
      ]
     },
     "execution_count": 24,
     "metadata": {},
     "output_type": "execute_result"
    }
   ],
   "source": [
    "rfc.fit(X_train, y_train)"
   ]
  },
  {
   "cell_type": "code",
   "execution_count": 25,
   "id": "a0814182",
   "metadata": {},
   "outputs": [
    {
     "data": {
      "text/plain": [
       "0.939"
      ]
     },
     "execution_count": 25,
     "metadata": {},
     "output_type": "execute_result"
    }
   ],
   "source": [
    "rfc.score(X_train, y_train)"
   ]
  },
  {
   "cell_type": "code",
   "execution_count": 26,
   "id": "196f574d",
   "metadata": {},
   "outputs": [
    {
     "data": {
      "text/plain": [
       "0.8173333333333334"
      ]
     },
     "execution_count": 26,
     "metadata": {},
     "output_type": "execute_result"
    }
   ],
   "source": [
    "rfc.score(X_test, y_test)"
   ]
  },
  {
   "cell_type": "code",
   "execution_count": null,
   "id": "9e73ad3c",
   "metadata": {},
   "outputs": [],
   "source": []
  },
  {
   "cell_type": "code",
   "execution_count": 27,
   "id": "2b92c445",
   "metadata": {},
   "outputs": [],
   "source": [
    "from sklearn.model_selection import GridSearchCV\n",
    "model=RandomForestClassifier()"
   ]
  },
  {
   "cell_type": "code",
   "execution_count": 34,
   "id": "6cf3d686",
   "metadata": {},
   "outputs": [],
   "source": [
    "mygrid = {\n",
    "              'n_estimators':[50,100, 200, 300, 400],\n",
    "              'max_depth':[2,6,15,20,None],\n",
    "              'min_samples_leaf':[1,3,5],\n",
    "              'min_samples_split':[1,3,5]\n",
    "              \n",
    "           }"
   ]
  },
  {
   "cell_type": "code",
   "execution_count": 35,
   "id": "f1f7fcaa",
   "metadata": {},
   "outputs": [],
   "source": [
    "grid_search = GridSearchCV(estimator=model, param_grid=mygrid, cv=6, n_jobs=-1, verbose=-1)"
   ]
  },
  {
   "cell_type": "code",
   "execution_count": 36,
   "id": "33da4720",
   "metadata": {},
   "outputs": [
    {
     "name": "stderr",
     "output_type": "stream",
     "text": [
      "D:\\Anaconda\\lib\\site-packages\\sklearn\\model_selection\\_validation.py:372: FitFailedWarning: \n",
      "450 fits failed out of a total of 1350.\n",
      "The score on these train-test partitions for these parameters will be set to nan.\n",
      "If these failures are not expected, you can try to debug them by setting error_score='raise'.\n",
      "\n",
      "Below are more details about the failures:\n",
      "--------------------------------------------------------------------------------\n",
      "450 fits failed with the following error:\n",
      "Traceback (most recent call last):\n",
      "  File \"D:\\Anaconda\\lib\\site-packages\\sklearn\\model_selection\\_validation.py\", line 680, in _fit_and_score\n",
      "    estimator.fit(X_train, y_train, **fit_params)\n",
      "  File \"D:\\Anaconda\\lib\\site-packages\\sklearn\\ensemble\\_forest.py\", line 450, in fit\n",
      "    trees = Parallel(\n",
      "  File \"D:\\Anaconda\\lib\\site-packages\\joblib\\parallel.py\", line 1043, in __call__\n",
      "    if self.dispatch_one_batch(iterator):\n",
      "  File \"D:\\Anaconda\\lib\\site-packages\\joblib\\parallel.py\", line 861, in dispatch_one_batch\n",
      "    self._dispatch(tasks)\n",
      "  File \"D:\\Anaconda\\lib\\site-packages\\joblib\\parallel.py\", line 779, in _dispatch\n",
      "    job = self._backend.apply_async(batch, callback=cb)\n",
      "  File \"D:\\Anaconda\\lib\\site-packages\\joblib\\_parallel_backends.py\", line 208, in apply_async\n",
      "    result = ImmediateResult(func)\n",
      "  File \"D:\\Anaconda\\lib\\site-packages\\joblib\\_parallel_backends.py\", line 572, in __init__\n",
      "    self.results = batch()\n",
      "  File \"D:\\Anaconda\\lib\\site-packages\\joblib\\parallel.py\", line 262, in __call__\n",
      "    return [func(*args, **kwargs)\n",
      "  File \"D:\\Anaconda\\lib\\site-packages\\joblib\\parallel.py\", line 262, in <listcomp>\n",
      "    return [func(*args, **kwargs)\n",
      "  File \"D:\\Anaconda\\lib\\site-packages\\sklearn\\utils\\fixes.py\", line 216, in __call__\n",
      "    return self.function(*args, **kwargs)\n",
      "  File \"D:\\Anaconda\\lib\\site-packages\\sklearn\\ensemble\\_forest.py\", line 185, in _parallel_build_trees\n",
      "    tree.fit(X, y, sample_weight=curr_sample_weight, check_input=False)\n",
      "  File \"D:\\Anaconda\\lib\\site-packages\\sklearn\\tree\\_classes.py\", line 937, in fit\n",
      "    super().fit(\n",
      "  File \"D:\\Anaconda\\lib\\site-packages\\sklearn\\tree\\_classes.py\", line 250, in fit\n",
      "    raise ValueError(\n",
      "ValueError: min_samples_split must be an integer greater than 1 or a float in (0.0, 1.0]; got the integer 1\n",
      "\n",
      "  warnings.warn(some_fits_failed_message, FitFailedWarning)\n",
      "D:\\Anaconda\\lib\\site-packages\\sklearn\\model_selection\\_search.py:969: UserWarning: One or more of the test scores are non-finite: [       nan        nan        nan        nan        nan 0.72133333\n",
      " 0.721      0.721      0.72133333 0.72166667 0.72066667 0.72\n",
      " 0.721      0.72133333 0.72166667        nan        nan        nan\n",
      "        nan        nan 0.71766667 0.72       0.721      0.722\n",
      " 0.72133333 0.71833333 0.72133333 0.72066667 0.721      0.72133333\n",
      "        nan        nan        nan        nan        nan 0.72166667\n",
      " 0.722      0.72166667 0.72133333 0.72133333 0.71833333 0.72033333\n",
      " 0.72       0.72133333 0.721             nan        nan        nan\n",
      "        nan        nan 0.82       0.80766667 0.812      0.814\n",
      " 0.81133333 0.81066667 0.818      0.81466667 0.80866667 0.81366667\n",
      "        nan        nan        nan        nan        nan 0.80766667\n",
      " 0.80466667 0.81866667 0.809      0.812      0.8        0.818\n",
      " 0.81433333 0.81366667 0.814             nan        nan        nan\n",
      "        nan        nan 0.808      0.81233333 0.81233333 0.819\n",
      " 0.813      0.81166667 0.81       0.80433333 0.812      0.81\n",
      "        nan        nan        nan        nan        nan 0.83966667\n",
      " 0.84       0.841      0.83966667 0.843      0.84433333 0.84466667\n",
      " 0.846      0.84833333 0.85              nan        nan        nan\n",
      "        nan        nan 0.84633333 0.849      0.84733333 0.84866667\n",
      " 0.852      0.85       0.849      0.84866667 0.85       0.85166667\n",
      "        nan        nan        nan        nan        nan 0.843\n",
      " 0.84566667 0.845      0.84666667 0.84433333 0.845      0.845\n",
      " 0.846      0.84666667 0.846             nan        nan        nan\n",
      "        nan        nan 0.831      0.834      0.834      0.83533333\n",
      " 0.836      0.83933333 0.844      0.84033333 0.84333333 0.84333333\n",
      "        nan        nan        nan        nan        nan 0.846\n",
      " 0.84666667 0.85       0.85166667 0.85066667 0.846      0.847\n",
      " 0.84966667 0.851      0.85066667        nan        nan        nan\n",
      "        nan        nan 0.849      0.847      0.84466667 0.844\n",
      " 0.84766667 0.84433333 0.84066667 0.84566667 0.84633333 0.84466667\n",
      "        nan        nan        nan        nan        nan 0.83433333\n",
      " 0.836      0.83366667 0.831      0.83833333 0.83833333 0.841\n",
      " 0.84166667 0.84133333 0.838             nan        nan        nan\n",
      "        nan        nan 0.849      0.84966667 0.84866667 0.851\n",
      " 0.851      0.85       0.84866667 0.85133333 0.84933333 0.851\n",
      "        nan        nan        nan        nan        nan 0.84466667\n",
      " 0.84466667 0.84566667 0.84733333 0.84433333 0.84233333 0.84533333\n",
      " 0.84366667 0.843      0.84433333]\n",
      "  warnings.warn(\n"
     ]
    },
    {
     "name": "stdout",
     "output_type": "stream",
     "text": [
      "CPU times: total: 7.89 s\n",
      "Wall time: 5min 17s\n"
     ]
    },
    {
     "data": {
      "text/plain": [
       "GridSearchCV(cv=6, estimator=RandomForestClassifier(), n_jobs=-1,\n",
       "             param_grid={'max_depth': [2, 6, 15, 20, None],\n",
       "                         'min_samples_leaf': [1, 3, 5],\n",
       "                         'min_samples_split': [1, 3, 5],\n",
       "                         'n_estimators': [50, 100, 200, 300, 400]},\n",
       "             verbose=-1)"
      ]
     },
     "execution_count": 36,
     "metadata": {},
     "output_type": "execute_result"
    }
   ],
   "source": [
    "%%time\n",
    "grid_search.fit(X_train, y_train)"
   ]
  },
  {
   "cell_type": "code",
   "execution_count": 37,
   "id": "6bf19c2c",
   "metadata": {},
   "outputs": [
    {
     "data": {
      "text/plain": [
       "{'max_depth': 15,\n",
       " 'min_samples_leaf': 3,\n",
       " 'min_samples_split': 3,\n",
       " 'n_estimators': 400}"
      ]
     },
     "execution_count": 37,
     "metadata": {},
     "output_type": "execute_result"
    }
   ],
   "source": [
    "grid_search.best_params_"
   ]
  },
  {
   "cell_type": "code",
   "execution_count": 55,
   "id": "bbb7074b",
   "metadata": {},
   "outputs": [],
   "source": [
    "best_model=RandomForestClassifier(max_depth=15, min_samples_leaf=3,min_samples_split=3, n_estimators=400 )"
   ]
  },
  {
   "cell_type": "code",
   "execution_count": 56,
   "id": "9e11c765",
   "metadata": {},
   "outputs": [
    {
     "data": {
      "text/plain": [
       "RandomForestClassifier(max_depth=15, min_samples_leaf=3, min_samples_split=3,\n",
       "                       n_estimators=400)"
      ]
     },
     "execution_count": 56,
     "metadata": {},
     "output_type": "execute_result"
    }
   ],
   "source": [
    "best_model.fit(X_train, y_train)"
   ]
  },
  {
   "cell_type": "code",
   "execution_count": 57,
   "id": "9a5398a1",
   "metadata": {},
   "outputs": [
    {
     "data": {
      "text/plain": [
       "0.8813333333333333"
      ]
     },
     "execution_count": 57,
     "metadata": {},
     "output_type": "execute_result"
    }
   ],
   "source": [
    "best_model.score(X_train, y_train)"
   ]
  },
  {
   "cell_type": "code",
   "execution_count": 58,
   "id": "061218a1",
   "metadata": {},
   "outputs": [
    {
     "data": {
      "text/plain": [
       "0.848"
      ]
     },
     "execution_count": 58,
     "metadata": {},
     "output_type": "execute_result"
    }
   ],
   "source": [
    "best_model.score(X_test, y_test)"
   ]
  },
  {
   "cell_type": "code",
   "execution_count": 59,
   "id": "c611ec72",
   "metadata": {},
   "outputs": [
    {
     "data": {
      "text/plain": [
       "RandomForestClassifier(max_depth=15, min_samples_leaf=3, min_samples_split=3,\n",
       "                       n_estimators=400)"
      ]
     },
     "execution_count": 59,
     "metadata": {},
     "output_type": "execute_result"
    }
   ],
   "source": [
    "best_model.fit(X, y)"
   ]
  },
  {
   "cell_type": "code",
   "execution_count": null,
   "id": "be8e5655",
   "metadata": {},
   "outputs": [],
   "source": []
  },
  {
   "cell_type": "code",
   "execution_count": 97,
   "id": "66498648",
   "metadata": {},
   "outputs": [
    {
     "data": {
      "text/html": [
       "<div>\n",
       "<style scoped>\n",
       "    .dataframe tbody tr th:only-of-type {\n",
       "        vertical-align: middle;\n",
       "    }\n",
       "\n",
       "    .dataframe tbody tr th {\n",
       "        vertical-align: top;\n",
       "    }\n",
       "\n",
       "    .dataframe thead th {\n",
       "        text-align: right;\n",
       "    }\n",
       "</style>\n",
       "<table border=\"1\" class=\"dataframe\">\n",
       "  <thead>\n",
       "    <tr style=\"text-align: right;\">\n",
       "      <th></th>\n",
       "      <th>Education</th>\n",
       "      <th>JoiningYear</th>\n",
       "      <th>City</th>\n",
       "      <th>PaymentTier</th>\n",
       "      <th>Age</th>\n",
       "      <th>Gender</th>\n",
       "      <th>EverBenched</th>\n",
       "      <th>ExperienceInCurrentDomain</th>\n",
       "    </tr>\n",
       "  </thead>\n",
       "  <tbody>\n",
       "    <tr>\n",
       "      <th>0</th>\n",
       "      <td>Bachelors</td>\n",
       "      <td>2020</td>\n",
       "      <td>other</td>\n",
       "      <td>3</td>\n",
       "      <td>25</td>\n",
       "      <td>Female</td>\n",
       "      <td>Yes</td>\n",
       "      <td>3</td>\n",
       "    </tr>\n",
       "    <tr>\n",
       "      <th>1</th>\n",
       "      <td>Bachelors</td>\n",
       "      <td>2020</td>\n",
       "      <td>Bishkek</td>\n",
       "      <td>3</td>\n",
       "      <td>24</td>\n",
       "      <td>Male</td>\n",
       "      <td>No</td>\n",
       "      <td>2</td>\n",
       "    </tr>\n",
       "    <tr>\n",
       "      <th>2</th>\n",
       "      <td>Masters</td>\n",
       "      <td>2017</td>\n",
       "      <td>other</td>\n",
       "      <td>2</td>\n",
       "      <td>36</td>\n",
       "      <td>Male</td>\n",
       "      <td>No</td>\n",
       "      <td>3</td>\n",
       "    </tr>\n",
       "    <tr>\n",
       "      <th>3</th>\n",
       "      <td>PHD</td>\n",
       "      <td>2018</td>\n",
       "      <td>other</td>\n",
       "      <td>3</td>\n",
       "      <td>35</td>\n",
       "      <td>Female</td>\n",
       "      <td>No</td>\n",
       "      <td>0</td>\n",
       "    </tr>\n",
       "    <tr>\n",
       "      <th>4</th>\n",
       "      <td>Bachelors</td>\n",
       "      <td>2o18</td>\n",
       "      <td>Bishkek</td>\n",
       "      <td>3</td>\n",
       "      <td>26</td>\n",
       "      <td>Male</td>\n",
       "      <td>No</td>\n",
       "      <td>4</td>\n",
       "    </tr>\n",
       "    <tr>\n",
       "      <th>...</th>\n",
       "      <td>...</td>\n",
       "      <td>...</td>\n",
       "      <td>...</td>\n",
       "      <td>...</td>\n",
       "      <td>...</td>\n",
       "      <td>...</td>\n",
       "      <td>...</td>\n",
       "      <td>...</td>\n",
       "    </tr>\n",
       "    <tr>\n",
       "      <th>898</th>\n",
       "      <td>Bachelors</td>\n",
       "      <td>2022</td>\n",
       "      <td>Bishkek</td>\n",
       "      <td>3</td>\n",
       "      <td>29</td>\n",
       "      <td>Male</td>\n",
       "      <td>No</td>\n",
       "      <td>1</td>\n",
       "    </tr>\n",
       "    <tr>\n",
       "      <th>899</th>\n",
       "      <td>Bachelors</td>\n",
       "      <td>2021</td>\n",
       "      <td>other</td>\n",
       "      <td>3</td>\n",
       "      <td>28</td>\n",
       "      <td>Male</td>\n",
       "      <td>No</td>\n",
       "      <td>0</td>\n",
       "    </tr>\n",
       "    <tr>\n",
       "      <th>900</th>\n",
       "      <td>Bachelors</td>\n",
       "      <td>2021</td>\n",
       "      <td>Bishkek</td>\n",
       "      <td>3</td>\n",
       "      <td>24</td>\n",
       "      <td>Male</td>\n",
       "      <td>No</td>\n",
       "      <td>2</td>\n",
       "    </tr>\n",
       "    <tr>\n",
       "      <th>901</th>\n",
       "      <td>Bachelors</td>\n",
       "      <td>2020</td>\n",
       "      <td>Bishkek</td>\n",
       "      <td>3</td>\n",
       "      <td>27</td>\n",
       "      <td>Male</td>\n",
       "      <td>No</td>\n",
       "      <td>5</td>\n",
       "    </tr>\n",
       "    <tr>\n",
       "      <th>902</th>\n",
       "      <td>Bachelors</td>\n",
       "      <td>2018</td>\n",
       "      <td>Bishkek</td>\n",
       "      <td>3</td>\n",
       "      <td>27</td>\n",
       "      <td>Male</td>\n",
       "      <td>Yes</td>\n",
       "      <td>5</td>\n",
       "    </tr>\n",
       "  </tbody>\n",
       "</table>\n",
       "<p>903 rows × 8 columns</p>\n",
       "</div>"
      ],
      "text/plain": [
       "     Education JoiningYear     City  PaymentTier  Age  Gender EverBenched  \\\n",
       "0    Bachelors        2020    other            3   25  Female         Yes   \n",
       "1    Bachelors        2020  Bishkek            3   24    Male          No   \n",
       "2      Masters        2017    other            2   36    Male          No   \n",
       "3          PHD        2018    other            3   35  Female          No   \n",
       "4    Bachelors        2o18  Bishkek            3   26    Male          No   \n",
       "..         ...         ...      ...          ...  ...     ...         ...   \n",
       "898  Bachelors        2022  Bishkek            3   29    Male          No   \n",
       "899  Bachelors        2021    other            3   28    Male          No   \n",
       "900  Bachelors        2021  Bishkek            3   24    Male          No   \n",
       "901  Bachelors        2020  Bishkek            3   27    Male          No   \n",
       "902  Bachelors        2018  Bishkek            3   27    Male         Yes   \n",
       "\n",
       "     ExperienceInCurrentDomain  \n",
       "0                            3  \n",
       "1                            2  \n",
       "2                            3  \n",
       "3                            0  \n",
       "4                            4  \n",
       "..                         ...  \n",
       "898                          1  \n",
       "899                          0  \n",
       "900                          2  \n",
       "901                          5  \n",
       "902                          5  \n",
       "\n",
       "[903 rows x 8 columns]"
      ]
     },
     "execution_count": 97,
     "metadata": {},
     "output_type": "execute_result"
    }
   ],
   "source": [
    "test_df=pd.read_csv(\"empl_test.csv\")\n",
    "test_df"
   ]
  },
  {
   "cell_type": "code",
   "execution_count": 98,
   "id": "bab20e7c",
   "metadata": {},
   "outputs": [],
   "source": [
    "test_df['JoiningYear']=pd.to_numeric(test_df['JoiningYear'],errors='coerce')\n",
    "test_df['JoiningYear'].fillna(value=test_df['JoiningYear'].mean(), inplace=True)\n"
   ]
  },
  {
   "cell_type": "code",
   "execution_count": null,
   "id": "b8132b04",
   "metadata": {},
   "outputs": [],
   "source": []
  },
  {
   "cell_type": "code",
   "execution_count": 99,
   "id": "70dcfbfb",
   "metadata": {},
   "outputs": [
    {
     "data": {
      "text/plain": [
       "Bachelors       670\n",
       "Masters         173\n",
       "PHD              28\n",
       "Бакалавр         19\n",
       "Магистратура      7\n",
       "Bachlor           3\n",
       "Master            1\n",
       "PhD               1\n",
       "Кандидат          1\n",
       "Name: Education, dtype: int64"
      ]
     },
     "execution_count": 99,
     "metadata": {},
     "output_type": "execute_result"
    }
   ],
   "source": [
    "test_df['Education'].value_counts()"
   ]
  },
  {
   "cell_type": "code",
   "execution_count": 100,
   "id": "cd8e62fc",
   "metadata": {},
   "outputs": [],
   "source": [
    "test_df['Education']=test_df['Education'].replace('Bachlor','Bachelors')"
   ]
  },
  {
   "cell_type": "code",
   "execution_count": 101,
   "id": "7925ce15",
   "metadata": {},
   "outputs": [],
   "source": [
    "test_df['Education']=test_df['Education'].replace('Master','Masters')\n",
    "test_df['Education']=test_df['Education'].replace('Кандидат','PHD')\n",
    "test_df['Gender']=test_df['Gender'].replace('Мужской','Male')\n",
    "test_df['Gender']=test_df['Gender'].replace('Женский','Female')\n",
    "test_df['Education']=test_df['Education'].replace('PhD','PHD')"
   ]
  },
  {
   "cell_type": "code",
   "execution_count": null,
   "id": "f23581cd",
   "metadata": {},
   "outputs": [],
   "source": []
  },
  {
   "cell_type": "code",
   "execution_count": 102,
   "id": "8ebc3b71",
   "metadata": {},
   "outputs": [
    {
     "data": {
      "text/plain": [
       "Bishkek    426\n",
       "Osh        233\n",
       "other      228\n",
       "Др           6\n",
       "Биш          4\n",
       "Ош           4\n",
       "Name: City, dtype: int64"
      ]
     },
     "execution_count": 102,
     "metadata": {},
     "output_type": "execute_result"
    }
   ],
   "source": [
    "test_df['City'].value_counts()"
   ]
  },
  {
   "cell_type": "code",
   "execution_count": 103,
   "id": "e04a4622",
   "metadata": {},
   "outputs": [],
   "source": [
    "test_df['City'].fillna(value='Bishkek', inplace=True)"
   ]
  },
  {
   "cell_type": "code",
   "execution_count": 104,
   "id": "46e6381e",
   "metadata": {},
   "outputs": [
    {
     "name": "stdout",
     "output_type": "stream",
     "text": [
      "<class 'pandas.core.frame.DataFrame'>\n",
      "RangeIndex: 903 entries, 0 to 902\n",
      "Data columns (total 8 columns):\n",
      " #   Column                     Non-Null Count  Dtype  \n",
      "---  ------                     --------------  -----  \n",
      " 0   Education                  903 non-null    object \n",
      " 1   JoiningYear                903 non-null    float64\n",
      " 2   City                       903 non-null    object \n",
      " 3   PaymentTier                903 non-null    int64  \n",
      " 4   Age                        903 non-null    int64  \n",
      " 5   Gender                     903 non-null    object \n",
      " 6   EverBenched                903 non-null    object \n",
      " 7   ExperienceInCurrentDomain  903 non-null    int64  \n",
      "dtypes: float64(1), int64(3), object(4)\n",
      "memory usage: 56.6+ KB\n"
     ]
    }
   ],
   "source": [
    "test_df.info()"
   ]
  },
  {
   "cell_type": "code",
   "execution_count": 105,
   "id": "8ef2bf35",
   "metadata": {},
   "outputs": [],
   "source": [
    "test_df['City']=test_df['City'].replace('Биш','Bishkek')\n",
    "test_df['City']=test_df['City'].replace('Ош','Osh')\n",
    "test_df['City']=test_df['City'].replace('Др','other')\n",
    "test_df['Gender'].replace({\"Male\":1, \"Female\":0}, inplace=True)\n",
    "test_df['EverBenched'].replace({\"Yes\":1, \"No\":0}, inplace=True)\n",
    "test_df=pd.get_dummies(test_df, 'Education', 'City')"
   ]
  },
  {
   "cell_type": "code",
   "execution_count": 106,
   "id": "dd2e0dba",
   "metadata": {},
   "outputs": [
    {
     "data": {
      "text/html": [
       "<div>\n",
       "<style scoped>\n",
       "    .dataframe tbody tr th:only-of-type {\n",
       "        vertical-align: middle;\n",
       "    }\n",
       "\n",
       "    .dataframe tbody tr th {\n",
       "        vertical-align: top;\n",
       "    }\n",
       "\n",
       "    .dataframe thead th {\n",
       "        text-align: right;\n",
       "    }\n",
       "</style>\n",
       "<table border=\"1\" class=\"dataframe\">\n",
       "  <thead>\n",
       "    <tr style=\"text-align: right;\">\n",
       "      <th></th>\n",
       "      <th>JoiningYear</th>\n",
       "      <th>PaymentTier</th>\n",
       "      <th>Age</th>\n",
       "      <th>Gender</th>\n",
       "      <th>EverBenched</th>\n",
       "      <th>ExperienceInCurrentDomain</th>\n",
       "      <th>EducationCityBachelors</th>\n",
       "      <th>EducationCityMasters</th>\n",
       "      <th>EducationCityPHD</th>\n",
       "      <th>EducationCityБакалавр</th>\n",
       "      <th>EducationCityМагистратура</th>\n",
       "      <th>EducationCityBishkek</th>\n",
       "      <th>EducationCityOsh</th>\n",
       "      <th>EducationCityother</th>\n",
       "    </tr>\n",
       "  </thead>\n",
       "  <tbody>\n",
       "    <tr>\n",
       "      <th>0</th>\n",
       "      <td>2021.0</td>\n",
       "      <td>3</td>\n",
       "      <td>36</td>\n",
       "      <td>1</td>\n",
       "      <td>0</td>\n",
       "      <td>0</td>\n",
       "      <td>1</td>\n",
       "      <td>0</td>\n",
       "      <td>0</td>\n",
       "      <td>0</td>\n",
       "      <td>0</td>\n",
       "      <td>1</td>\n",
       "      <td>0</td>\n",
       "      <td>0</td>\n",
       "    </tr>\n",
       "    <tr>\n",
       "      <th>1</th>\n",
       "      <td>2017.0</td>\n",
       "      <td>3</td>\n",
       "      <td>38</td>\n",
       "      <td>1</td>\n",
       "      <td>1</td>\n",
       "      <td>5</td>\n",
       "      <td>1</td>\n",
       "      <td>0</td>\n",
       "      <td>0</td>\n",
       "      <td>0</td>\n",
       "      <td>0</td>\n",
       "      <td>0</td>\n",
       "      <td>1</td>\n",
       "      <td>0</td>\n",
       "    </tr>\n",
       "    <tr>\n",
       "      <th>2</th>\n",
       "      <td>2021.0</td>\n",
       "      <td>3</td>\n",
       "      <td>29</td>\n",
       "      <td>0</td>\n",
       "      <td>0</td>\n",
       "      <td>1</td>\n",
       "      <td>1</td>\n",
       "      <td>0</td>\n",
       "      <td>0</td>\n",
       "      <td>0</td>\n",
       "      <td>0</td>\n",
       "      <td>0</td>\n",
       "      <td>1</td>\n",
       "      <td>0</td>\n",
       "    </tr>\n",
       "    <tr>\n",
       "      <th>3</th>\n",
       "      <td>2021.0</td>\n",
       "      <td>3</td>\n",
       "      <td>34</td>\n",
       "      <td>1</td>\n",
       "      <td>0</td>\n",
       "      <td>5</td>\n",
       "      <td>1</td>\n",
       "      <td>0</td>\n",
       "      <td>0</td>\n",
       "      <td>0</td>\n",
       "      <td>0</td>\n",
       "      <td>0</td>\n",
       "      <td>1</td>\n",
       "      <td>0</td>\n",
       "    </tr>\n",
       "    <tr>\n",
       "      <th>4</th>\n",
       "      <td>2016.0</td>\n",
       "      <td>3</td>\n",
       "      <td>24</td>\n",
       "      <td>1</td>\n",
       "      <td>0</td>\n",
       "      <td>2</td>\n",
       "      <td>1</td>\n",
       "      <td>0</td>\n",
       "      <td>0</td>\n",
       "      <td>0</td>\n",
       "      <td>0</td>\n",
       "      <td>1</td>\n",
       "      <td>0</td>\n",
       "      <td>0</td>\n",
       "    </tr>\n",
       "    <tr>\n",
       "      <th>...</th>\n",
       "      <td>...</td>\n",
       "      <td>...</td>\n",
       "      <td>...</td>\n",
       "      <td>...</td>\n",
       "      <td>...</td>\n",
       "      <td>...</td>\n",
       "      <td>...</td>\n",
       "      <td>...</td>\n",
       "      <td>...</td>\n",
       "      <td>...</td>\n",
       "      <td>...</td>\n",
       "      <td>...</td>\n",
       "      <td>...</td>\n",
       "      <td>...</td>\n",
       "    </tr>\n",
       "    <tr>\n",
       "      <th>3745</th>\n",
       "      <td>2020.0</td>\n",
       "      <td>3</td>\n",
       "      <td>33</td>\n",
       "      <td>1</td>\n",
       "      <td>0</td>\n",
       "      <td>4</td>\n",
       "      <td>1</td>\n",
       "      <td>0</td>\n",
       "      <td>0</td>\n",
       "      <td>0</td>\n",
       "      <td>0</td>\n",
       "      <td>0</td>\n",
       "      <td>1</td>\n",
       "      <td>0</td>\n",
       "    </tr>\n",
       "    <tr>\n",
       "      <th>3746</th>\n",
       "      <td>2018.0</td>\n",
       "      <td>2</td>\n",
       "      <td>36</td>\n",
       "      <td>0</td>\n",
       "      <td>0</td>\n",
       "      <td>5</td>\n",
       "      <td>1</td>\n",
       "      <td>0</td>\n",
       "      <td>0</td>\n",
       "      <td>0</td>\n",
       "      <td>0</td>\n",
       "      <td>0</td>\n",
       "      <td>1</td>\n",
       "      <td>0</td>\n",
       "    </tr>\n",
       "    <tr>\n",
       "      <th>3747</th>\n",
       "      <td>2018.0</td>\n",
       "      <td>3</td>\n",
       "      <td>28</td>\n",
       "      <td>0</td>\n",
       "      <td>0</td>\n",
       "      <td>5</td>\n",
       "      <td>1</td>\n",
       "      <td>0</td>\n",
       "      <td>0</td>\n",
       "      <td>0</td>\n",
       "      <td>0</td>\n",
       "      <td>0</td>\n",
       "      <td>1</td>\n",
       "      <td>0</td>\n",
       "    </tr>\n",
       "    <tr>\n",
       "      <th>3748</th>\n",
       "      <td>2017.0</td>\n",
       "      <td>2</td>\n",
       "      <td>38</td>\n",
       "      <td>0</td>\n",
       "      <td>0</td>\n",
       "      <td>0</td>\n",
       "      <td>1</td>\n",
       "      <td>0</td>\n",
       "      <td>0</td>\n",
       "      <td>0</td>\n",
       "      <td>0</td>\n",
       "      <td>0</td>\n",
       "      <td>1</td>\n",
       "      <td>0</td>\n",
       "    </tr>\n",
       "    <tr>\n",
       "      <th>3749</th>\n",
       "      <td>2017.0</td>\n",
       "      <td>3</td>\n",
       "      <td>26</td>\n",
       "      <td>0</td>\n",
       "      <td>0</td>\n",
       "      <td>4</td>\n",
       "      <td>0</td>\n",
       "      <td>1</td>\n",
       "      <td>0</td>\n",
       "      <td>0</td>\n",
       "      <td>0</td>\n",
       "      <td>0</td>\n",
       "      <td>0</td>\n",
       "      <td>1</td>\n",
       "    </tr>\n",
       "  </tbody>\n",
       "</table>\n",
       "<p>3750 rows × 14 columns</p>\n",
       "</div>"
      ],
      "text/plain": [
       "      JoiningYear  PaymentTier  Age  Gender  EverBenched  \\\n",
       "0          2021.0            3   36       1            0   \n",
       "1          2017.0            3   38       1            1   \n",
       "2          2021.0            3   29       0            0   \n",
       "3          2021.0            3   34       1            0   \n",
       "4          2016.0            3   24       1            0   \n",
       "...           ...          ...  ...     ...          ...   \n",
       "3745       2020.0            3   33       1            0   \n",
       "3746       2018.0            2   36       0            0   \n",
       "3747       2018.0            3   28       0            0   \n",
       "3748       2017.0            2   38       0            0   \n",
       "3749       2017.0            3   26       0            0   \n",
       "\n",
       "      ExperienceInCurrentDomain  EducationCityBachelors  EducationCityMasters  \\\n",
       "0                             0                       1                     0   \n",
       "1                             5                       1                     0   \n",
       "2                             1                       1                     0   \n",
       "3                             5                       1                     0   \n",
       "4                             2                       1                     0   \n",
       "...                         ...                     ...                   ...   \n",
       "3745                          4                       1                     0   \n",
       "3746                          5                       1                     0   \n",
       "3747                          5                       1                     0   \n",
       "3748                          0                       1                     0   \n",
       "3749                          4                       0                     1   \n",
       "\n",
       "      EducationCityPHD  EducationCityБакалавр  EducationCityМагистратура  \\\n",
       "0                    0                      0                          0   \n",
       "1                    0                      0                          0   \n",
       "2                    0                      0                          0   \n",
       "3                    0                      0                          0   \n",
       "4                    0                      0                          0   \n",
       "...                ...                    ...                        ...   \n",
       "3745                 0                      0                          0   \n",
       "3746                 0                      0                          0   \n",
       "3747                 0                      0                          0   \n",
       "3748                 0                      0                          0   \n",
       "3749                 0                      0                          0   \n",
       "\n",
       "      EducationCityBishkek  EducationCityOsh  EducationCityother  \n",
       "0                        1                 0                   0  \n",
       "1                        0                 1                   0  \n",
       "2                        0                 1                   0  \n",
       "3                        0                 1                   0  \n",
       "4                        1                 0                   0  \n",
       "...                    ...               ...                 ...  \n",
       "3745                     0                 1                   0  \n",
       "3746                     0                 1                   0  \n",
       "3747                     0                 1                   0  \n",
       "3748                     0                 1                   0  \n",
       "3749                     0                 0                   1  \n",
       "\n",
       "[3750 rows x 14 columns]"
      ]
     },
     "execution_count": 106,
     "metadata": {},
     "output_type": "execute_result"
    }
   ],
   "source": [
    "X"
   ]
  },
  {
   "cell_type": "code",
   "execution_count": 107,
   "id": "eef9a652",
   "metadata": {},
   "outputs": [
    {
     "data": {
      "text/plain": [
       "array([0, 0, 0, 1, 0, 0, 0, 0, 0, 0, 0, 0, 0, 1, 0, 0, 0, 1, 0, 0, 0, 0,\n",
       "       0, 0, 0, 1, 1, 0, 0, 0, 0, 0, 1, 1, 1, 0, 1, 0, 1, 0, 0, 0, 0, 0,\n",
       "       0, 0, 0, 0, 1, 0, 1, 0, 0, 1, 0, 1, 0, 0, 1, 1, 1, 0, 1, 0, 1, 0,\n",
       "       0, 0, 0, 1, 0, 1, 0, 1, 1, 0, 0, 1, 0, 0, 0, 0, 0, 0, 0, 0, 0, 0,\n",
       "       0, 0, 0, 0, 0, 1, 0, 0, 1, 0, 0, 0, 1, 1, 0, 1, 0, 0, 0, 0, 0, 1,\n",
       "       0, 0, 0, 0, 0, 0, 0, 0, 1, 1, 1, 0, 0, 1, 0, 0, 0, 0, 0, 0, 0, 0,\n",
       "       1, 1, 0, 1, 0, 0, 1, 0, 0, 0, 1, 0, 0, 0, 0, 0, 0, 0, 1, 0, 0, 0,\n",
       "       0, 0, 0, 1, 0, 0, 0, 0, 0, 0, 0, 1, 0, 1, 0, 1, 0, 1, 0, 0, 0, 0,\n",
       "       0, 0, 0, 0, 0, 0, 0, 1, 1, 0, 1, 0, 1, 0, 0, 0, 1, 0, 1, 1, 0, 0,\n",
       "       0, 1, 0, 0, 0, 0, 0, 0, 0, 0, 1, 0, 0, 0, 0, 1, 0, 0, 0, 0, 0, 0,\n",
       "       0, 0, 0, 0, 0, 0, 0, 0, 1, 0, 0, 0, 1, 0, 1, 0, 0, 1, 0, 1, 0, 0,\n",
       "       1, 1, 0, 1, 0, 0, 0, 0, 0, 1, 0, 0, 1, 0, 0, 0, 0, 0, 1, 1, 1, 0,\n",
       "       1, 0, 0, 0, 0, 1, 0, 0, 1, 0, 0, 1, 0, 1, 1, 0, 0, 0, 1, 0, 1, 0,\n",
       "       0, 1, 1, 0, 1, 0, 0, 0, 0, 0, 1, 1, 0, 1, 0, 0, 1, 0, 0, 0, 1, 0,\n",
       "       0, 1, 0, 0, 0, 1, 0, 0, 0, 0, 1, 0, 0, 0, 0, 0, 0, 0, 0, 0, 1, 0,\n",
       "       0, 1, 1, 0, 0, 0, 0, 0, 0, 1, 0, 0, 0, 0, 0, 0, 0, 0, 0, 0, 1, 0,\n",
       "       0, 0, 0, 0, 0, 1, 0, 0, 0, 0, 0, 0, 0, 0, 1, 0, 0, 0, 1, 0, 0, 0,\n",
       "       1, 0, 1, 0, 0, 1, 0, 0, 1, 1, 0, 0, 0, 1, 0, 1, 0, 0, 0, 0, 0, 1,\n",
       "       0, 0, 0, 0, 0, 0, 0, 0, 0, 0, 1, 1, 1, 1, 0, 0, 0, 1, 0, 1, 0, 0,\n",
       "       0, 0, 0, 0, 1, 0, 0, 0, 1, 1, 0, 0, 0, 0, 0, 1, 1, 0, 0, 1, 0, 0,\n",
       "       0, 0, 0, 1, 0, 0, 0, 0, 0, 0, 0, 1, 0, 0, 0, 0, 0, 0, 0, 0, 1, 1,\n",
       "       1, 1, 0, 0, 0, 0, 0, 0, 0, 0, 0, 0, 0, 1, 0, 0, 0, 0, 1, 0, 0, 0,\n",
       "       0, 1, 0, 0, 1, 1, 0, 1, 1, 0, 0, 1, 0, 0, 0, 0, 0, 1, 0, 0, 1, 0,\n",
       "       0, 0, 0, 1, 0, 0, 0, 0, 0, 0, 0, 0, 0, 0, 0, 0, 0, 0, 0, 0, 0, 1,\n",
       "       0, 1, 1, 0, 0, 0, 0, 0, 0, 0, 1, 0, 0, 1, 0, 0, 0, 0, 1, 0, 1, 1,\n",
       "       0, 0, 0, 0, 0, 0, 0, 0, 0, 0, 1, 1, 0, 1, 0, 0, 0, 0, 1, 1, 1, 0,\n",
       "       1, 0, 1, 1, 0, 1, 0, 0, 0, 0, 0, 0, 0, 1, 0, 0, 0, 1, 1, 1, 0, 0,\n",
       "       0, 0, 0, 0, 0, 0, 1, 0, 0, 0, 0, 1, 0, 0, 1, 1, 1, 1, 1, 0, 0, 0,\n",
       "       0, 0, 0, 0, 0, 0, 0, 1, 0, 0, 0, 0, 0, 0, 0, 0, 0, 0, 0, 1, 1, 0,\n",
       "       0, 0, 0, 1, 0, 0, 0, 0, 0, 0, 0, 1, 0, 0, 0, 0, 0, 0, 0, 0, 0, 1,\n",
       "       0, 1, 0, 0, 0, 0, 1, 0, 0, 0, 1, 0, 0, 0, 0, 1, 0, 0, 1, 0, 0, 0,\n",
       "       0, 0, 0, 0, 0, 1, 1, 0, 1, 1, 0, 0, 0, 1, 0, 1, 0, 0, 0, 0, 0, 0,\n",
       "       1, 0, 0, 1, 0, 1, 1, 0, 0, 0, 0, 0, 1, 0, 0, 0, 0, 0, 0, 0, 0, 0,\n",
       "       0, 0, 0, 0, 0, 1, 0, 0, 0, 1, 0, 1, 0, 1, 0, 1, 1, 0, 0, 0, 0, 0,\n",
       "       0, 0, 0, 0, 0, 0, 0, 1, 1, 1, 0, 0, 0, 0, 0, 1, 0, 1, 0, 0, 0, 0,\n",
       "       0, 1, 0, 1, 0, 0, 0, 0, 1, 1, 0, 1, 0, 0, 1, 1, 0, 0, 0, 0, 0, 0,\n",
       "       0, 1, 0, 0, 1, 1, 0, 1, 0, 0, 0, 0, 0, 0, 0, 1, 0, 1, 1, 1, 0, 0,\n",
       "       0, 0, 1, 0, 0, 0, 0, 0, 0, 0, 0, 0, 0, 1, 0, 0, 0, 0, 0, 0, 0, 0,\n",
       "       0, 1, 0, 1, 0, 1, 0, 0, 1, 0, 0, 0, 0, 0, 1, 0, 0, 0, 0, 0, 0, 0,\n",
       "       0, 1, 0, 1, 0, 0, 1, 0, 0, 1, 1, 0, 0, 0, 0, 0, 0, 0, 0, 0, 0, 0,\n",
       "       1, 1, 0, 1, 0, 0, 0, 0, 1, 0, 1, 0, 0, 0, 1, 1, 0, 1, 0, 0, 0, 0,\n",
       "       1], dtype=int64)"
      ]
     },
     "execution_count": 107,
     "metadata": {},
     "output_type": "execute_result"
    }
   ],
   "source": [
    "best_model.predict(test_df)"
   ]
  },
  {
   "cell_type": "code",
   "execution_count": 108,
   "id": "e88fb6e9",
   "metadata": {},
   "outputs": [],
   "source": [
    "test_df['Prediction']=best_model.predict(test_df)"
   ]
  },
  {
   "cell_type": "code",
   "execution_count": 111,
   "id": "c83eceb3",
   "metadata": {},
   "outputs": [],
   "source": [
    "test_df['Prediction'].to_csv('Prediction.csv', index=False)"
   ]
  },
  {
   "cell_type": "code",
   "execution_count": 110,
   "id": "e5640ef1",
   "metadata": {},
   "outputs": [
    {
     "data": {
      "text/plain": [
       "0      0\n",
       "1      0\n",
       "2      0\n",
       "3      1\n",
       "4      0\n",
       "      ..\n",
       "898    0\n",
       "899    0\n",
       "900    0\n",
       "901    0\n",
       "902    1\n",
       "Name: Prediction, Length: 903, dtype: int64"
      ]
     },
     "execution_count": 110,
     "metadata": {},
     "output_type": "execute_result"
    }
   ],
   "source": [
    "test_df['Prediction']"
   ]
  }
 ],
 "metadata": {
  "kernelspec": {
   "display_name": "Python 3 (ipykernel)",
   "language": "python",
   "name": "python3"
  },
  "language_info": {
   "codemirror_mode": {
    "name": "ipython",
    "version": 3
   },
   "file_extension": ".py",
   "mimetype": "text/x-python",
   "name": "python",
   "nbconvert_exporter": "python",
   "pygments_lexer": "ipython3",
   "version": "3.9.12"
  }
 },
 "nbformat": 4,
 "nbformat_minor": 5
}
